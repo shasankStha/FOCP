{
 "cells": [
  {
   "cell_type": "code",
   "execution_count": null,
   "metadata": {},
   "outputs": [
    {
     "name": "stdout",
     "output_type": "stream",
     "text": [
      "The total is 100\n"
     ]
    }
   ],
   "source": [
    "total = 100\n",
    "print(\"The total is\", total)"
   ]
  },
  {
   "cell_type": "code",
   "execution_count": null,
   "metadata": {},
   "outputs": [
    {
     "name": "stdout",
     "output_type": "stream",
     "text": [
      "The total is now 199\n"
     ]
    }
   ],
   "source": [
    "total = total + 99\n",
    "print(\"The total is now\", total)"
   ]
  },
  {
   "cell_type": "code",
   "execution_count": null,
   "metadata": {},
   "outputs": [
    {
     "name": "stdout",
     "output_type": "stream",
     "text": [
      "The total is 198\n",
      "The total is 792\n",
      "The total is 396.0\n"
     ]
    }
   ],
   "source": [
    "total -= 1\n",
    "print(\"The total is\", total)\n",
    "total *= 4\n",
    "print(\"The total is\", total)\n",
    "total /= 2\n",
    "print(\"The total is\", total)"
   ]
  },
  {
   "cell_type": "code",
   "execution_count": null,
   "metadata": {},
   "outputs": [
    {
     "name": "stdout",
     "output_type": "stream",
     "text": [
      "Average is 100.7\n"
     ]
    }
   ],
   "source": [
    "total = 98.2\n",
    "count = 5\n",
    "average = total + count / 2\n",
    "print(\"Average is\", average)"
   ]
  },
  {
   "cell_type": "code",
   "execution_count": null,
   "metadata": {},
   "outputs": [
    {
     "name": "stdout",
     "output_type": "stream",
     "text": [
      "<class 'bool'>\n",
      "<class 'int'>\n",
      "<class 'float'>\n",
      "<class 'str'>\n",
      "<class 'bool'>\n",
      "<class 'float'>\n",
      "<class 'int'>\n"
     ]
    }
   ],
   "source": [
    "print (type(False))\n",
    "print (type(1000))\n",
    "print (type(100.111))\n",
    "print (type(\"Hello\"))\n",
    "print (type(True))\n",
    "print (type(100 / 5))\n",
    "print (type(100 // 5))"
   ]
  },
  {
   "cell_type": "code",
   "execution_count": null,
   "metadata": {},
   "outputs": [
    {
     "name": "stdout",
     "output_type": "stream",
     "text": [
      "ABCABCABCABCABCABCABCABCABCABC\n"
     ]
    }
   ],
   "source": [
    "print (\"ABC\" * 10)"
   ]
  },
  {
   "cell_type": "code",
   "execution_count": null,
   "metadata": {},
   "outputs": [],
   "source": [
    "name = input (\"Ënter your name: \")\n",
    "address = input (\"Enter your adderss: \")\n",
    "contact = input (\"Enter your contact details: \")\n",
    "print (\"Details:\\n\")\n",
    "print (name)\n",
    "print (address)\n",
    "print (contact)\n",
    "print (len (name))"
   ]
  },
  {
   "cell_type": "code",
   "execution_count": null,
   "metadata": {},
   "outputs": [],
   "source": [
    "age = input (\"Enter your age \")\n",
    "print (\"in one year your age will be\", age + 1)\n",
    "#This doesn't work because input function sets value data as string"
   ]
  },
  {
   "cell_type": "code",
   "execution_count": null,
   "metadata": {},
   "outputs": [],
   "source": [
    "value1 = int (input (\"Enter first value: \"))\n",
    "value2 = int (input (\"Enter second value: \"))\n",
    "print (\"Product of two values is\", (value1 * value2))"
   ]
  },
  {
   "cell_type": "code",
   "execution_count": 1,
   "metadata": {},
   "outputs": [
    {
     "ename": "SyntaxError",
     "evalue": "invalid syntax (2440125605.py, line 1)",
     "output_type": "error",
     "traceback": [
      "\u001b[1;36m  Cell \u001b[1;32mIn [1], line 1\u001b[1;36m\u001b[0m\n\u001b[1;33m    comment = \"I would have \"thought\" you knew better!\"\u001b[0m\n\u001b[1;37m                             ^\u001b[0m\n\u001b[1;31mSyntaxError\u001b[0m\u001b[1;31m:\u001b[0m invalid syntax\n"
     ]
    }
   ],
   "source": [
    "comment = \"I would have \"thought\" you knew better!\"\n",
    "print (comment)"
   ]
  },
  {
   "cell_type": "code",
   "execution_count": 7,
   "metadata": {},
   "outputs": [
    {
     "name": "stdout",
     "output_type": "stream",
     "text": [
      "This text includes characters such as '' '\"' and \"'\",\n",
      "\tThis is a new line that starts with a tab\n",
      "\t\tThis new line starts with two tabs\n"
     ]
    }
   ],
   "source": [
    "print(\"This text includes characters such as '\\' '\\\"' and \\\"'\\\",\\n\\tThis is a new line that starts with a tab\\n\\t\\tThis new line starts with two tabs\")"
   ]
  },
  {
   "cell_type": "code",
   "execution_count": 9,
   "metadata": {},
   "outputs": [
    {
     "name": "stdout",
     "output_type": "stream",
     "text": [
      "\\\\\\\\\\\\\\\\\\\\\\\\\\\\\\\\\\\\\\\\\\\\\\\\\\\\\\ \n",
      "Hello there!\n",
      "\\\\\\\\\\\\\\\\\\\\\\\\\\\\\\\\\\\\\\\\\\\\\\\\\\\\\n"
     ]
    }
   ],
   "source": [
    "print(\"\\\\\\\\\\\\\\\\\\\\\\\\\\\\\\\\\\\\\\\\\\\\\\\\\\\\\\\\\\\\\\\\\\\\\\\\\\\\\\\\\\\\\\\\\\\\\\\\\\\\\\\\\\ \\nHello there!\\n\\\\\\\\\\\\\\\\\\\\\\\\\\\\\\\\\\\\\\\\\\\\\\\\\\\\\\\\\\\\\\\\\\\\\\\\\\\\\\\\\\\\\\\\\\\\\\\\\\\\\\\\\\\n",
    "\")"
   ]
  },
  {
   "cell_type": "code",
   "execution_count": 10,
   "metadata": {},
   "outputs": [
    {
     "name": "stdout",
     "output_type": "stream",
     "text": [
      "This text spans three lines,\n",
      "and includes both single ('),\n",
      "and double quotes (\").\n",
      "\n"
     ]
    }
   ],
   "source": [
    "print(\"\"\"This text spans three lines,\n",
    "and includes both single ('),\n",
    "and double quotes (\").\n",
    "\"\"\")"
   ]
  },
  {
   "cell_type": "code",
   "execution_count": 14,
   "metadata": {},
   "outputs": [
    {
     "name": "stdout",
     "output_type": "stream",
     "text": [
      "l\n"
     ]
    }
   ],
   "source": [
    "surname = \"Palin\"\n",
    "initial = surname[0]\n",
    "third = surname[2]\n",
    "print (third)\n"
   ]
  },
  {
   "cell_type": "code",
   "execution_count": 13,
   "metadata": {},
   "outputs": [
    {
     "ename": "IndexError",
     "evalue": "string index out of range",
     "output_type": "error",
     "traceback": [
      "\u001b[1;31m---------------------------------------------------------------------------\u001b[0m",
      "\u001b[1;31mIndexError\u001b[0m                                Traceback (most recent call last)",
      "Cell \u001b[1;32mIn [13], line 1\u001b[0m\n\u001b[1;32m----> 1\u001b[0m tenth \u001b[38;5;241m=\u001b[39m \u001b[43msurname\u001b[49m\u001b[43m[\u001b[49m\u001b[38;5;241;43m10\u001b[39;49m\u001b[43m]\u001b[49m\n\u001b[0;32m      2\u001b[0m \u001b[38;5;28mprint\u001b[39m (tenth)\n",
      "\u001b[1;31mIndexError\u001b[0m: string index out of range"
     ]
    }
   ],
   "source": [
    "tenth = surname[10]\n",
    "print (tenth)"
   ]
  },
  {
   "cell_type": "code",
   "execution_count": 17,
   "metadata": {},
   "outputs": [
    {
     "name": "stdout",
     "output_type": "stream",
     "text": [
      "i\n"
     ]
    }
   ],
   "source": [
    "surname = \"Palin\"\n",
    "last = surname[-2]\n",
    "print (last)\n"
   ]
  },
  {
   "cell_type": "code",
   "execution_count": 19,
   "metadata": {},
   "outputs": [
    {
     "name": "stdout",
     "output_type": "stream",
     "text": [
      "alin\n"
     ]
    }
   ],
   "source": [
    "surname = \"Palin\"\n",
    "middle = surname[1:]\n",
    "print (middle)"
   ]
  },
  {
   "cell_type": "code",
   "execution_count": 20,
   "metadata": {},
   "outputs": [
    {
     "name": "stdout",
     "output_type": "stream",
     "text": [
      "Pali\n"
     ]
    }
   ],
   "source": [
    "surname = \"Palin\"\n",
    "a = surname[:len (surname) - 1]\n",
    "print (a)"
   ]
  },
  {
   "cell_type": "code",
   "execution_count": 21,
   "metadata": {},
   "outputs": [
    {
     "name": "stdout",
     "output_type": "stream",
     "text": [
      "[2, 3, 5, 7]\n"
     ]
    }
   ],
   "source": [
    "primes = [2, 3, 5, 7, 13, 17, 19, 23, 29, 31, 37, 41, 43, 47]\n",
    "print ( primes[:4])"
   ]
  },
  {
   "cell_type": "code",
   "execution_count": 25,
   "metadata": {},
   "outputs": [
    {
     "name": "stdout",
     "output_type": "stream",
     "text": [
      "['Tim', 'Bill', 'Harry', 'Putter', 'Graeme']\n"
     ]
    }
   ],
   "source": [
    "names = [\"Tim\", \"Bill\", \"Graeme\"]\n",
    "names[2:2] = [\"Harry\", \"Putter\"]\n",
    "print ( names)"
   ]
  },
  {
   "cell_type": "code",
   "execution_count": 26,
   "metadata": {},
   "outputs": [
    {
     "data": {
      "text/plain": [
       "[1, 2, 3, 1, 2, 3, 1, 2, 3, 1, 2, 3, 1, 2, 3]"
      ]
     },
     "execution_count": 26,
     "metadata": {},
     "output_type": "execute_result"
    }
   ],
   "source": [
    "nums = [1,2,3] * 5\n",
    "nums"
   ]
  }
 ],
 "metadata": {
  "kernelspec": {
   "display_name": "Python 3.10.8 64-bit",
   "language": "python",
   "name": "python3"
  },
  "language_info": {
   "codemirror_mode": {
    "name": "ipython",
    "version": 3
   },
   "file_extension": ".py",
   "mimetype": "text/x-python",
   "name": "python",
   "nbconvert_exporter": "python",
   "pygments_lexer": "ipython3",
   "version": "3.10.8"
  },
  "orig_nbformat": 4,
  "vscode": {
   "interpreter": {
    "hash": "c82d555d443057878ce4fadbaa1f3465bdeb9add730345f8d81e836289a0975f"
   }
  }
 },
 "nbformat": 4,
 "nbformat_minor": 2
}
