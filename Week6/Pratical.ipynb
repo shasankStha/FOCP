{
 "cells": [
  {
   "cell_type": "code",
   "execution_count": 16,
   "metadata": {},
   "outputs": [
    {
     "name": "stdout",
     "output_type": "stream",
     "text": [
      "4\n",
      "9\n",
      "16\n",
      "25\n",
      "[4, 9, 16, 25, 36, 49, 64, 81]\n"
     ]
    }
   ],
   "source": [
    "squares = [4,9,16,25]\n",
    "for square in squares:\n",
    "    print(square)\n",
    "squares.append(36)\n",
    "new_squares=[49,64,81]\n",
    "for square in new_squares:\n",
    "    squares.append(square)\n",
    "print(squares)"
   ]
  },
  {
   "cell_type": "code",
   "execution_count": 17,
   "metadata": {},
   "outputs": [
    {
     "name": "stdout",
     "output_type": "stream",
     "text": [
      "[4, 9, 16, 25, 36, 49, 64, 81, 100, 121, 144, 169]\n"
     ]
    }
   ],
   "source": [
    "new_squares=[100,121,144,169]\n",
    "squares.extend(new_squares)\n",
    "print(squares)"
   ]
  },
  {
   "cell_type": "code",
   "execution_count": 18,
   "metadata": {},
   "outputs": [
    {
     "name": "stdout",
     "output_type": "stream",
     "text": [
      "[2, 4, 9, 16, 25, 36, 49, 64, 81, 100, 121, 144, 169]\n"
     ]
    }
   ],
   "source": [
    "squares.insert(0,2)\n",
    "print(squares)"
   ]
  },
  {
   "cell_type": "code",
   "execution_count": 19,
   "metadata": {},
   "outputs": [
    {
     "name": "stdout",
     "output_type": "stream",
     "text": [
      "[2, 4, 9, 16, 25, 36, 64, 81, 100, 121, 144, 169]\n"
     ]
    }
   ],
   "source": [
    "squares.remove(49)\n",
    "print(squares)"
   ]
  },
  {
   "cell_type": "code",
   "execution_count": 8,
   "metadata": {},
   "outputs": [
    {
     "ename": "ValueError",
     "evalue": "list.remove(x): x not in list",
     "output_type": "error",
     "traceback": [
      "\u001b[1;31m---------------------------------------------------------------------------\u001b[0m",
      "\u001b[1;31mValueError\u001b[0m                                Traceback (most recent call last)",
      "Cell \u001b[1;32mIn [8], line 1\u001b[0m\n\u001b[1;32m----> 1\u001b[0m squares\u001b[39m.\u001b[39;49mremove(\u001b[39m3\u001b[39;49m)\n\u001b[0;32m      2\u001b[0m \u001b[39mprint\u001b[39m(squares)\n",
      "\u001b[1;31mValueError\u001b[0m: list.remove(x): x not in list"
     ]
    }
   ],
   "source": [
    "squares.remove(3)\n",
    "print(squares)"
   ]
  },
  {
   "cell_type": "code",
   "execution_count": 20,
   "metadata": {},
   "outputs": [
    {
     "name": "stdout",
     "output_type": "stream",
     "text": [
      "[1, 3, 1, 2]\n"
     ]
    }
   ],
   "source": [
    "li = [1,2,3,1,2]\n",
    "li.remove(2)\n",
    "print(li)"
   ]
  },
  {
   "cell_type": "code",
   "execution_count": 21,
   "metadata": {},
   "outputs": [
    {
     "name": "stdout",
     "output_type": "stream",
     "text": [
      "169\n",
      "[2, 4, 9, 16, 25, 36, 64, 81, 100, 121, 144]\n"
     ]
    }
   ],
   "source": [
    "print(squares.pop())\n",
    "print(squares)"
   ]
  },
  {
   "cell_type": "code",
   "execution_count": 22,
   "metadata": {},
   "outputs": [
    {
     "name": "stdout",
     "output_type": "stream",
     "text": [
      "[4, 9, 16, 25, 36, 64, 81, 100, 121, 144]\n"
     ]
    }
   ],
   "source": [
    "squares.pop(0)\n",
    "print(squares)"
   ]
  },
  {
   "cell_type": "code",
   "execution_count": 28,
   "metadata": {},
   "outputs": [
    {
     "name": "stdout",
     "output_type": "stream",
     "text": [
      "['Anna', 'Eric', 'Sam', 'Sophie']\n"
     ]
    }
   ],
   "source": [
    "names = [ \"Eric\", \"anna\", \"Sophie\", \"sam\" ]\n",
    "new_names = [name.capitalize() for name in names]\n",
    "new_names.sort()\n",
    "print(new_names)"
   ]
  },
  {
   "cell_type": "code",
   "execution_count": 29,
   "metadata": {},
   "outputs": [
    {
     "name": "stdout",
     "output_type": "stream",
     "text": [
      "[144, 121, 100, 81, 64, 36, 25, 16, 9, 4]\n"
     ]
    }
   ],
   "source": [
    "squares.reverse()\n",
    "print(squares)"
   ]
  },
  {
   "cell_type": "code",
   "execution_count": 39,
   "metadata": {},
   "outputs": [
    {
     "data": {
      "text/plain": [
       "3"
      ]
     },
     "execution_count": 39,
     "metadata": {},
     "output_type": "execute_result"
    }
   ],
   "source": [
    "colours = [\"red\", \"green\", \"yellow\", \"blue\", \"red\"]\n",
    "colours.index(\"blue\")"
   ]
  },
  {
   "cell_type": "code",
   "execution_count": 40,
   "metadata": {},
   "outputs": [
    {
     "name": "stdout",
     "output_type": "stream",
     "text": [
      "['red', 'green', 'yellow', 'blue']\n",
      "['red', 'green', 'yellow', 'blue', 'red']\n"
     ]
    }
   ],
   "source": [
    "new_colours = colours.copy()\n",
    "colours.pop()\n",
    "print(colours)\n",
    "print(new_colours)"
   ]
  },
  {
   "cell_type": "code",
   "execution_count": 41,
   "metadata": {},
   "outputs": [
    {
     "name": "stdout",
     "output_type": "stream",
     "text": [
      "[8, 27, 64, 125, 216, 343, 512, 729, 1000, 1331, 1728, 2197, 2744, 3375, 4096, 4913, 5832, 6859, 8000]\n"
     ]
    }
   ],
   "source": [
    "cube = [x*x*x for x in range(2,21)]\n",
    "print(cube)"
   ]
  },
  {
   "cell_type": "code",
   "execution_count": 42,
   "metadata": {},
   "outputs": [
    {
     "name": "stdout",
     "output_type": "stream",
     "text": [
      "('Beni', 'Bank Road', 33200)\n"
     ]
    }
   ],
   "source": [
    "address = \"Beni\",\"Bank Road\",33200\n",
    "print(address)"
   ]
  },
  {
   "cell_type": "code",
   "execution_count": 43,
   "metadata": {},
   "outputs": [
    {
     "name": "stdout",
     "output_type": "stream",
     "text": [
      "<class 'tuple'>\n"
     ]
    }
   ],
   "source": [
    "num = 2,\n",
    "print(type(num))"
   ]
  },
  {
   "cell_type": "code",
   "execution_count": 44,
   "metadata": {},
   "outputs": [
    {
     "name": "stdout",
     "output_type": "stream",
     "text": [
      "Beni\n",
      "Bank Road\n",
      "33200\n"
     ]
    }
   ],
   "source": [
    "city,road,code= address\n",
    "print(city)\n",
    "print(road)\n",
    "print(code)"
   ]
  },
  {
   "cell_type": "code",
   "execution_count": 53,
   "metadata": {},
   "outputs": [
    {
     "name": "stdout",
     "output_type": "stream",
     "text": [
      "Beni\n",
      "Bank Road\n",
      "33200\n"
     ]
    }
   ],
   "source": [
    "def pr(*tu):\n",
    "    for i in tu:\n",
    "        print(i)\n",
    "pr(*address)"
   ]
  }
 ],
 "metadata": {
  "kernelspec": {
   "display_name": "Python 3.10.8 64-bit",
   "language": "python",
   "name": "python3"
  },
  "language_info": {
   "codemirror_mode": {
    "name": "ipython",
    "version": 3
   },
   "file_extension": ".py",
   "mimetype": "text/x-python",
   "name": "python",
   "nbconvert_exporter": "python",
   "pygments_lexer": "ipython3",
   "version": "3.10.8"
  },
  "orig_nbformat": 4,
  "vscode": {
   "interpreter": {
    "hash": "c82d555d443057878ce4fadbaa1f3465bdeb9add730345f8d81e836289a0975f"
   }
  }
 },
 "nbformat": 4,
 "nbformat_minor": 2
}
