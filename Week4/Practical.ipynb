{
 "cells": [
  {
   "cell_type": "code",
   "execution_count": 1,
   "metadata": {},
   "outputs": [
    {
     "name": "stdout",
     "output_type": "stream",
     "text": [
      "Square Root of 2401 is 49.0\n"
     ]
    }
   ],
   "source": [
    "from math import sqrt\n",
    "print(\"Square Root of 2401 is\",sqrt(2401))"
   ]
  },
  {
   "cell_type": "code",
   "execution_count": 3,
   "metadata": {},
   "outputs": [
    {
     "name": "stdout",
     "output_type": "stream",
     "text": [
      "10.0\n"
     ]
    }
   ],
   "source": [
    "from math import log2\n",
    "print(log2(1024))"
   ]
  },
  {
   "cell_type": "code",
   "execution_count": 4,
   "metadata": {},
   "outputs": [
    {
     "name": "stdout",
     "output_type": "stream",
     "text": [
      "4\n",
      "4\n",
      "Hello! Stranger\n",
      "Hello! Stranger\n"
     ]
    }
   ],
   "source": [
    "def displayTwice(msg):\n",
    "    print(msg)\n",
    "    print(msg) \n",
    "displayTwice(4)\n",
    "displayTwice(\"Hello! Stranger\")"
   ]
  },
  {
   "cell_type": "code",
   "execution_count": 1,
   "metadata": {},
   "outputs": [
    {
     "name": "stdout",
     "output_type": "stream",
     "text": [
      "Help on function displayTwice in module __main__:\n",
      "\n",
      "displayTwice(msg)\n",
      "    This function prints provided argument two times\n",
      "\n"
     ]
    }
   ],
   "source": [
    "def displayTwice(msg):\n",
    "    '''This function prints provided argument two times'''\n",
    "    print(msg)\n",
    "    print(msg)\n",
    "help(displayTwice)"
   ]
  },
  {
   "cell_type": "code",
   "execution_count": 2,
   "metadata": {},
   "outputs": [
    {
     "name": "stdout",
     "output_type": "stream",
     "text": [
      "9\n",
      "10.5\n",
      "shasank\n"
     ]
    }
   ],
   "source": [
    "def findMax(a,b):\n",
    "    \"\"\"Finds the maximum of two values.\"\"\"\n",
    "    if ( a > b ):\n",
    "        max = a\n",
    "    else:\n",
    "        max = b\n",
    "    return max\n",
    "print(findMax(5,9))\n",
    "print(findMax(10.5,3))\n",
    "print(findMax(\"shasank\",\"shanks\"))"
   ]
  },
  {
   "cell_type": "code",
   "execution_count": 7,
   "metadata": {},
   "outputs": [
    {
     "name": "stdout",
     "output_type": "stream",
     "text": [
      "20\n",
      "4\n"
     ]
    }
   ],
   "source": [
    "def multiply(a,b=1):\n",
    "    if b==1:\n",
    "        return (a*a)\n",
    "    else:\n",
    "        return(a*b)\n",
    "print(multiply(5,4))\n",
    "print(multiply(2))"
   ]
  },
  {
   "cell_type": "code",
   "execution_count": 8,
   "metadata": {},
   "outputs": [
    {
     "name": "stdout",
     "output_type": "stream",
     "text": [
      "x is 1 \n",
      "y is 2 \n",
      "z is 3\n",
      "x is 5 \n",
      "y is 9 \n",
      "z is 2\n"
     ]
    }
   ],
   "source": [
    "def someFunc(x, y, z):\n",
    "\tprint(\"x is\", x, \"\\ny is\", y, \"\\nz is\", z)\n",
    "someFunc(y=2, z=3, x=1)\n",
    "someFunc(z=2, x=5, y=9)"
   ]
  },
  {
   "cell_type": "code",
   "execution_count": null,
   "metadata": {},
   "outputs": [],
   "source": []
  }
 ],
 "metadata": {
  "kernelspec": {
   "display_name": "Python 3.10.8 64-bit",
   "language": "python",
   "name": "python3"
  },
  "language_info": {
   "codemirror_mode": {
    "name": "ipython",
    "version": 3
   },
   "file_extension": ".py",
   "mimetype": "text/x-python",
   "name": "python",
   "nbconvert_exporter": "python",
   "pygments_lexer": "ipython3",
   "version": "3.10.8"
  },
  "orig_nbformat": 4,
  "vscode": {
   "interpreter": {
    "hash": "c82d555d443057878ce4fadbaa1f3465bdeb9add730345f8d81e836289a0975f"
   }
  }
 },
 "nbformat": 4,
 "nbformat_minor": 2
}
